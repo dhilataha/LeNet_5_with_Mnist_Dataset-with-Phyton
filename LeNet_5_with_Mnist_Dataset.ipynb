{
  "nbformat": 4,
  "nbformat_minor": 0,
  "metadata": {
    "colab": {
      "name": "LeNet-5 with Mnist Dataset.ipynb",
      "provenance": []
    },
    "kernelspec": {
      "name": "python3",
      "display_name": "Python 3"
    },
    "accelerator": "GPU"
  },
  "cells": [
    {
      "cell_type": "code",
      "metadata": {
        "id": "1k3BEDs3L2lB",
        "colab_type": "code",
        "outputId": "b7cc1491-6b21-4b04-9aaa-9b02558d14ba",
        "colab": {
          "base_uri": "https://localhost:8080/",
          "height": 100
        }
      },
      "source": [
        "from keras.datasets import mnist\n",
        "from keras.utils import np_utils"
      ],
      "execution_count": 0,
      "outputs": [
        {
          "output_type": "stream",
          "text": [
            "Using TensorFlow backend.\n"
          ],
          "name": "stderr"
        },
        {
          "output_type": "display_data",
          "data": {
            "text/html": [
              "<p style=\"color: red;\">\n",
              "The default version of TensorFlow in Colab will soon switch to TensorFlow 2.x.<br>\n",
              "We recommend you <a href=\"https://www.tensorflow.org/guide/migrate\" target=\"_blank\">upgrade</a> now \n",
              "or ensure your notebook will continue to use TensorFlow 1.x via the <code>%tensorflow_version 1.x</code> magic:\n",
              "<a href=\"https://colab.research.google.com/notebooks/tensorflow_version.ipynb\" target=\"_blank\">more info</a>.</p>\n"
            ],
            "text/plain": [
              "<IPython.core.display.HTML object>"
            ]
          },
          "metadata": {
            "tags": []
          }
        }
      ]
    },
    {
      "cell_type": "code",
      "metadata": {
        "id": "3VylAVjeMpOK",
        "colab_type": "code",
        "outputId": "db62df0e-0385-4539-a2c4-ab0f2221a607",
        "colab": {
          "base_uri": "https://localhost:8080/",
          "height": 92
        }
      },
      "source": [
        "import tensorflow.compat.v1 as tf\n",
        "tf.disable_v2_behavior()\n"
      ],
      "execution_count": 0,
      "outputs": [
        {
          "output_type": "stream",
          "text": [
            "WARNING:tensorflow:From /usr/local/lib/python3.6/dist-packages/tensorflow_core/python/compat/v2_compat.py:68: disable_resource_variables (from tensorflow.python.ops.variable_scope) is deprecated and will be removed in a future version.\n",
            "Instructions for updating:\n",
            "non-resource variables are not supported in the long term\n"
          ],
          "name": "stdout"
        }
      ]
    },
    {
      "cell_type": "code",
      "metadata": {
        "id": "GZ90X7YuMvvi",
        "colab_type": "code",
        "outputId": "05a9929f-8752-4a12-a788-8924e3e76572",
        "colab": {
          "base_uri": "https://localhost:8080/",
          "height": 54
        }
      },
      "source": [
        "# Load dataset as train and test sets\n",
        "(x_train, y_train), (x_test, y_test) = mnist.load_data()"
      ],
      "execution_count": 0,
      "outputs": [
        {
          "output_type": "stream",
          "text": [
            "Downloading data from https://s3.amazonaws.com/img-datasets/mnist.npz\n",
            "11493376/11490434 [==============================] - 1s 0us/step\n"
          ],
          "name": "stdout"
        }
      ]
    },
    {
      "cell_type": "code",
      "metadata": {
        "id": "nwHu14_UQHSX",
        "colab_type": "code",
        "outputId": "52b8208c-3f7b-4b40-b6b6-69d763d51039",
        "colab": {
          "base_uri": "https://localhost:8080/",
          "height": 90
        }
      },
      "source": [
        "print(x_train.shape)\n",
        "print(y_train.shape)\n",
        "print(x_test.shape)\n",
        "print(y_test.shape)"
      ],
      "execution_count": 0,
      "outputs": [
        {
          "output_type": "stream",
          "text": [
            "(60000, 28, 28)\n",
            "(60000,)\n",
            "(10000, 28, 28)\n",
            "(10000,)\n"
          ],
          "name": "stdout"
        }
      ]
    },
    {
      "cell_type": "code",
      "metadata": {
        "id": "7cWzx0egNALM",
        "colab_type": "code",
        "colab": {}
      },
      "source": [
        "# Set numeric type to float32 from uint8\n",
        "x_train = x_train.astype(\"float32\")\n",
        "x_test = x_test.astype(\"float32\")"
      ],
      "execution_count": 0,
      "outputs": []
    },
    {
      "cell_type": "code",
      "metadata": {
        "id": "S-eeRrHIN229",
        "colab_type": "code",
        "colab": {}
      },
      "source": [
        "# Normalize value to [0, 1]\n",
        "x_train /= 255\n",
        "x_test /= 255"
      ],
      "execution_count": 0,
      "outputs": []
    },
    {
      "cell_type": "code",
      "metadata": {
        "id": "EbQKiTMgN5N4",
        "colab_type": "code",
        "colab": {}
      },
      "source": [
        "# Transform lables to one-hot encoding\n",
        "y_train = np_utils.to_categorical(y_train, 10)\n",
        "y_test = np_utils.to_categorical(y_test, 10)"
      ],
      "execution_count": 0,
      "outputs": []
    },
    {
      "cell_type": "code",
      "metadata": {
        "id": "QRflUj3MOBDV",
        "colab_type": "code",
        "colab": {}
      },
      "source": [
        "# Reshape the dataset into 4D array\n",
        "x_train = x_train.reshape(x_train.shape[0], 28,28,1)\n",
        "x_test = x_test.reshape(x_test.shape[0], 28,28,1) "
      ],
      "execution_count": 0,
      "outputs": []
    },
    {
      "cell_type": "code",
      "metadata": {
        "id": "OiT0r1enOK7r",
        "colab_type": "code",
        "colab": {}
      },
      "source": [
        "from keras.models import Sequential\n",
        "from keras import models, layers\n",
        "import keras"
      ],
      "execution_count": 0,
      "outputs": []
    },
    {
      "cell_type": "code",
      "metadata": {
        "id": "jj5Sn5z1OTsP",
        "colab_type": "code",
        "outputId": "578794ae-0c21-410f-afc4-98174491a519",
        "colab": {
          "base_uri": "https://localhost:8080/",
          "height": 74
        }
      },
      "source": [
        "#Instantiate an empty model\n",
        "model = Sequential()"
      ],
      "execution_count": 0,
      "outputs": [
        {
          "output_type": "stream",
          "text": [
            "WARNING:tensorflow:From /usr/local/lib/python3.6/dist-packages/keras/backend/tensorflow_backend.py:66: The name tf.get_default_graph is deprecated. Please use tf.compat.v1.get_default_graph instead.\n",
            "\n"
          ],
          "name": "stdout"
        }
      ]
    },
    {
      "cell_type": "code",
      "metadata": {
        "id": "63gcY898OZ-k",
        "colab_type": "code",
        "outputId": "8e9fe7b6-21fa-4a35-b082-8ec664f4e672",
        "colab": {
          "base_uri": "https://localhost:8080/",
          "height": 110
        }
      },
      "source": [
        "#C1 Convolutional Layer\n",
        "model.add(layers.Conv2D(6, kernel_size=(5, 5), strides=(1, 1), activation='tanh', input_shape=(28,28,1), padding=\"same\"))"
      ],
      "execution_count": 0,
      "outputs": [
        {
          "output_type": "stream",
          "text": [
            "WARNING:tensorflow:From /usr/local/lib/python3.6/dist-packages/keras/backend/tensorflow_backend.py:541: The name tf.placeholder is deprecated. Please use tf.compat.v1.placeholder instead.\n",
            "\n",
            "WARNING:tensorflow:From /usr/local/lib/python3.6/dist-packages/keras/backend/tensorflow_backend.py:4432: The name tf.random_uniform is deprecated. Please use tf.random.uniform instead.\n",
            "\n"
          ],
          "name": "stdout"
        }
      ]
    },
    {
      "cell_type": "code",
      "metadata": {
        "id": "l4o8pAN1Oa9c",
        "colab_type": "code",
        "outputId": "98303dc0-ceb8-4d4a-ca65-170a9ad010a0",
        "colab": {
          "base_uri": "https://localhost:8080/",
          "height": 74
        }
      },
      "source": [
        "# S2 Pooling Layer\n",
        "model.add(layers.AveragePooling2D(pool_size=(2, 2), strides=(1, 1), padding=\"valid\"))"
      ],
      "execution_count": 0,
      "outputs": [
        {
          "output_type": "stream",
          "text": [
            "WARNING:tensorflow:From /usr/local/lib/python3.6/dist-packages/keras/backend/tensorflow_backend.py:4271: The name tf.nn.avg_pool is deprecated. Please use tf.nn.avg_pool2d instead.\n",
            "\n"
          ],
          "name": "stdout"
        }
      ]
    },
    {
      "cell_type": "code",
      "metadata": {
        "id": "9jV8TB-uOa5U",
        "colab_type": "code",
        "colab": {}
      },
      "source": [
        "# C3 Convolutional Layer\n",
        "model.add(layers.Conv2D(16, kernel_size=(5, 5), strides=(1, 1), activation='tanh', padding=\"valid\"))"
      ],
      "execution_count": 0,
      "outputs": []
    },
    {
      "cell_type": "code",
      "metadata": {
        "id": "5jPmAc64Oa3k",
        "colab_type": "code",
        "colab": {}
      },
      "source": [
        "# S4 Pooling Layer\n",
        "model.add(layers.AveragePooling2D(pool_size=(2, 2), strides=(2, 2), padding=\"valid\"))"
      ],
      "execution_count": 0,
      "outputs": []
    },
    {
      "cell_type": "code",
      "metadata": {
        "id": "hL_SHFWOOa0d",
        "colab_type": "code",
        "colab": {}
      },
      "source": [
        "# C5 Fully Connected Convolutional Layer\n",
        "model.add(layers.Conv2D(120, kernel_size=(5, 5), strides=(1, 1), activation='tanh', padding=\"valid\"))\n",
        "#Flatten the CNN output so that we can connect it with fully connected layers\n",
        "model.add(layers.Flatten())"
      ],
      "execution_count": 0,
      "outputs": []
    },
    {
      "cell_type": "code",
      "metadata": {
        "id": "yOi2WEEhOaw2",
        "colab_type": "code",
        "colab": {}
      },
      "source": [
        "# FC6 Fully Connected Layer\n",
        "model.add(layers.Dense(84, activation='tanh'))"
      ],
      "execution_count": 0,
      "outputs": []
    },
    {
      "cell_type": "code",
      "metadata": {
        "id": "g9posGc5Oas_",
        "colab_type": "code",
        "colab": {}
      },
      "source": [
        "#Output Layer with softmax activation\n",
        "model.add(layers.Dense(10, activation='softmax'))"
      ],
      "execution_count": 0,
      "outputs": []
    },
    {
      "cell_type": "code",
      "metadata": {
        "id": "2Aqyi6ObOapF",
        "colab_type": "code",
        "outputId": "aa054bd8-bedb-4eaf-c9f4-2234db4caf9d",
        "colab": {
          "base_uri": "https://localhost:8080/",
          "height": 110
        }
      },
      "source": [
        "# Compile the model\n",
        "model.compile(loss=keras.losses.categorical_crossentropy, optimizer='SGD', metrics=[\"accuracy\"]) "
      ],
      "execution_count": 0,
      "outputs": [
        {
          "output_type": "stream",
          "text": [
            "WARNING:tensorflow:From /usr/local/lib/python3.6/dist-packages/keras/optimizers.py:793: The name tf.train.Optimizer is deprecated. Please use tf.compat.v1.train.Optimizer instead.\n",
            "\n",
            "WARNING:tensorflow:From /usr/local/lib/python3.6/dist-packages/keras/backend/tensorflow_backend.py:3576: The name tf.log is deprecated. Please use tf.math.log instead.\n",
            "\n"
          ],
          "name": "stdout"
        }
      ]
    },
    {
      "cell_type": "code",
      "metadata": {
        "id": "Rd6Qll3IOalB",
        "colab_type": "code",
        "outputId": "35903c1e-f150-4a1e-e18a-73df51756c19",
        "colab": {
          "base_uri": "https://localhost:8080/",
          "height": 1000
        }
      },
      "source": [
        "hist = model.fit(x=x_train,y=y_train, epochs=50, batch_size=128, validation_data=(x_test, y_test), verbose=1) "
      ],
      "execution_count": 0,
      "outputs": [
        {
          "output_type": "stream",
          "text": [
            "WARNING:tensorflow:From /usr/local/lib/python3.6/dist-packages/tensorflow_core/python/ops/math_grad.py:1424: where (from tensorflow.python.ops.array_ops) is deprecated and will be removed in a future version.\n",
            "Instructions for updating:\n",
            "Use tf.where in 2.0, which has the same broadcast rule as np.where\n",
            "WARNING:tensorflow:From /usr/local/lib/python3.6/dist-packages/keras/backend/tensorflow_backend.py:1033: The name tf.assign_add is deprecated. Please use tf.compat.v1.assign_add instead.\n",
            "\n",
            "WARNING:tensorflow:From /usr/local/lib/python3.6/dist-packages/keras/backend/tensorflow_backend.py:1020: The name tf.assign is deprecated. Please use tf.compat.v1.assign instead.\n",
            "\n",
            "WARNING:tensorflow:From /usr/local/lib/python3.6/dist-packages/keras/backend/tensorflow_backend.py:3005: The name tf.Session is deprecated. Please use tf.compat.v1.Session instead.\n",
            "\n",
            "Train on 60000 samples, validate on 10000 samples\n",
            "Epoch 1/50\n",
            "WARNING:tensorflow:From /usr/local/lib/python3.6/dist-packages/keras/backend/tensorflow_backend.py:190: The name tf.get_default_session is deprecated. Please use tf.compat.v1.get_default_session instead.\n",
            "\n",
            "WARNING:tensorflow:From /usr/local/lib/python3.6/dist-packages/keras/backend/tensorflow_backend.py:197: The name tf.ConfigProto is deprecated. Please use tf.compat.v1.ConfigProto instead.\n",
            "\n",
            "WARNING:tensorflow:From /usr/local/lib/python3.6/dist-packages/keras/backend/tensorflow_backend.py:207: The name tf.global_variables is deprecated. Please use tf.compat.v1.global_variables instead.\n",
            "\n",
            "WARNING:tensorflow:From /usr/local/lib/python3.6/dist-packages/keras/backend/tensorflow_backend.py:216: The name tf.is_variable_initialized is deprecated. Please use tf.compat.v1.is_variable_initialized instead.\n",
            "\n",
            "WARNING:tensorflow:From /usr/local/lib/python3.6/dist-packages/keras/backend/tensorflow_backend.py:223: The name tf.variables_initializer is deprecated. Please use tf.compat.v1.variables_initializer instead.\n",
            "\n",
            "60000/60000 [==============================] - 19s 314us/step - loss: 0.7069 - acc: 0.8232 - val_loss: 0.3486 - val_acc: 0.9041\n",
            "Epoch 2/50\n",
            "60000/60000 [==============================] - 3s 48us/step - loss: 0.3177 - acc: 0.9091 - val_loss: 0.2686 - val_acc: 0.9228\n",
            "Epoch 3/50\n",
            "60000/60000 [==============================] - 3s 48us/step - loss: 0.2582 - acc: 0.9261 - val_loss: 0.2263 - val_acc: 0.9350\n",
            "Epoch 4/50\n",
            "60000/60000 [==============================] - 3s 46us/step - loss: 0.2220 - acc: 0.9369 - val_loss: 0.1980 - val_acc: 0.9446\n",
            "Epoch 5/50\n",
            "60000/60000 [==============================] - 3s 47us/step - loss: 0.1956 - acc: 0.9441 - val_loss: 0.1779 - val_acc: 0.9476\n",
            "Epoch 6/50\n",
            "60000/60000 [==============================] - 3s 47us/step - loss: 0.1751 - acc: 0.9500 - val_loss: 0.1594 - val_acc: 0.9553\n",
            "Epoch 7/50\n",
            "60000/60000 [==============================] - 3s 48us/step - loss: 0.1578 - acc: 0.9556 - val_loss: 0.1455 - val_acc: 0.9584\n",
            "Epoch 8/50\n",
            "60000/60000 [==============================] - 3s 48us/step - loss: 0.1435 - acc: 0.9603 - val_loss: 0.1339 - val_acc: 0.9613\n",
            "Epoch 9/50\n",
            "60000/60000 [==============================] - 3s 48us/step - loss: 0.1311 - acc: 0.9636 - val_loss: 0.1222 - val_acc: 0.9651\n",
            "Epoch 10/50\n",
            "60000/60000 [==============================] - 3s 45us/step - loss: 0.1204 - acc: 0.9664 - val_loss: 0.1142 - val_acc: 0.9680\n",
            "Epoch 11/50\n",
            "60000/60000 [==============================] - 3s 45us/step - loss: 0.1111 - acc: 0.9696 - val_loss: 0.1048 - val_acc: 0.9705\n",
            "Epoch 12/50\n",
            "60000/60000 [==============================] - 3s 47us/step - loss: 0.1030 - acc: 0.9718 - val_loss: 0.0982 - val_acc: 0.9729\n",
            "Epoch 13/50\n",
            "60000/60000 [==============================] - 3s 46us/step - loss: 0.0960 - acc: 0.9741 - val_loss: 0.0917 - val_acc: 0.9738\n",
            "Epoch 14/50\n",
            "60000/60000 [==============================] - 3s 47us/step - loss: 0.0896 - acc: 0.9759 - val_loss: 0.0891 - val_acc: 0.9750\n",
            "Epoch 15/50\n",
            "60000/60000 [==============================] - 3s 49us/step - loss: 0.0843 - acc: 0.9779 - val_loss: 0.0825 - val_acc: 0.9751\n",
            "Epoch 16/50\n",
            "60000/60000 [==============================] - 3s 46us/step - loss: 0.0795 - acc: 0.9786 - val_loss: 0.0777 - val_acc: 0.9774\n",
            "Epoch 17/50\n",
            "60000/60000 [==============================] - 3s 47us/step - loss: 0.0752 - acc: 0.9803 - val_loss: 0.0753 - val_acc: 0.9764\n",
            "Epoch 18/50\n",
            "60000/60000 [==============================] - 3s 47us/step - loss: 0.0712 - acc: 0.9816 - val_loss: 0.0708 - val_acc: 0.9791\n",
            "Epoch 19/50\n",
            "60000/60000 [==============================] - 3s 46us/step - loss: 0.0678 - acc: 0.9823 - val_loss: 0.0685 - val_acc: 0.9798\n",
            "Epoch 20/50\n",
            "60000/60000 [==============================] - 3s 45us/step - loss: 0.0646 - acc: 0.9832 - val_loss: 0.0662 - val_acc: 0.9796\n",
            "Epoch 21/50\n",
            "60000/60000 [==============================] - 3s 48us/step - loss: 0.0616 - acc: 0.9837 - val_loss: 0.0637 - val_acc: 0.9805\n",
            "Epoch 22/50\n",
            "60000/60000 [==============================] - 3s 48us/step - loss: 0.0591 - acc: 0.9843 - val_loss: 0.0624 - val_acc: 0.9815\n",
            "Epoch 23/50\n",
            "60000/60000 [==============================] - 3s 47us/step - loss: 0.0568 - acc: 0.9848 - val_loss: 0.0600 - val_acc: 0.9818\n",
            "Epoch 24/50\n",
            "60000/60000 [==============================] - 3s 46us/step - loss: 0.0546 - acc: 0.9855 - val_loss: 0.0583 - val_acc: 0.9812\n",
            "Epoch 25/50\n",
            "60000/60000 [==============================] - 3s 45us/step - loss: 0.0527 - acc: 0.9859 - val_loss: 0.0562 - val_acc: 0.9822\n",
            "Epoch 26/50\n",
            "60000/60000 [==============================] - 3s 45us/step - loss: 0.0506 - acc: 0.9865 - val_loss: 0.0553 - val_acc: 0.9830\n",
            "Epoch 27/50\n",
            "60000/60000 [==============================] - 3s 46us/step - loss: 0.0490 - acc: 0.9870 - val_loss: 0.0539 - val_acc: 0.9839\n",
            "Epoch 28/50\n",
            "60000/60000 [==============================] - 3s 47us/step - loss: 0.0474 - acc: 0.9874 - val_loss: 0.0524 - val_acc: 0.9843\n",
            "Epoch 29/50\n",
            "60000/60000 [==============================] - 3s 47us/step - loss: 0.0457 - acc: 0.9877 - val_loss: 0.0514 - val_acc: 0.9850\n",
            "Epoch 30/50\n",
            "60000/60000 [==============================] - 3s 48us/step - loss: 0.0443 - acc: 0.9885 - val_loss: 0.0510 - val_acc: 0.9839\n",
            "Epoch 31/50\n",
            "60000/60000 [==============================] - 3s 48us/step - loss: 0.0430 - acc: 0.9886 - val_loss: 0.0504 - val_acc: 0.9845\n",
            "Epoch 32/50\n",
            "60000/60000 [==============================] - 3s 49us/step - loss: 0.0418 - acc: 0.9892 - val_loss: 0.0480 - val_acc: 0.9850\n",
            "Epoch 33/50\n",
            "60000/60000 [==============================] - 3s 49us/step - loss: 0.0405 - acc: 0.9894 - val_loss: 0.0476 - val_acc: 0.9853\n",
            "Epoch 34/50\n",
            "60000/60000 [==============================] - 3s 50us/step - loss: 0.0394 - acc: 0.9896 - val_loss: 0.0466 - val_acc: 0.9855\n",
            "Epoch 35/50\n",
            "60000/60000 [==============================] - 3s 47us/step - loss: 0.0384 - acc: 0.9900 - val_loss: 0.0466 - val_acc: 0.9857\n",
            "Epoch 36/50\n",
            "60000/60000 [==============================] - 3s 48us/step - loss: 0.0372 - acc: 0.9903 - val_loss: 0.0463 - val_acc: 0.9850\n",
            "Epoch 37/50\n",
            "60000/60000 [==============================] - 3s 46us/step - loss: 0.0363 - acc: 0.9907 - val_loss: 0.0444 - val_acc: 0.9861\n",
            "Epoch 38/50\n",
            "60000/60000 [==============================] - 3s 47us/step - loss: 0.0353 - acc: 0.9908 - val_loss: 0.0444 - val_acc: 0.9857\n",
            "Epoch 39/50\n",
            "60000/60000 [==============================] - 3s 47us/step - loss: 0.0344 - acc: 0.9913 - val_loss: 0.0435 - val_acc: 0.9859\n",
            "Epoch 40/50\n",
            "60000/60000 [==============================] - 3s 46us/step - loss: 0.0336 - acc: 0.9913 - val_loss: 0.0436 - val_acc: 0.9862\n",
            "Epoch 41/50\n",
            "60000/60000 [==============================] - 3s 45us/step - loss: 0.0327 - acc: 0.9918 - val_loss: 0.0429 - val_acc: 0.9862\n",
            "Epoch 42/50\n",
            "60000/60000 [==============================] - 3s 46us/step - loss: 0.0317 - acc: 0.9919 - val_loss: 0.0418 - val_acc: 0.9868\n",
            "Epoch 43/50\n",
            "60000/60000 [==============================] - 3s 45us/step - loss: 0.0311 - acc: 0.9921 - val_loss: 0.0413 - val_acc: 0.9861\n",
            "Epoch 44/50\n",
            "60000/60000 [==============================] - 3s 46us/step - loss: 0.0302 - acc: 0.9926 - val_loss: 0.0420 - val_acc: 0.9867\n",
            "Epoch 45/50\n",
            "60000/60000 [==============================] - 3s 44us/step - loss: 0.0297 - acc: 0.9925 - val_loss: 0.0408 - val_acc: 0.9867\n",
            "Epoch 46/50\n",
            "60000/60000 [==============================] - 3s 45us/step - loss: 0.0290 - acc: 0.9927 - val_loss: 0.0403 - val_acc: 0.9872\n",
            "Epoch 47/50\n",
            "60000/60000 [==============================] - 3s 47us/step - loss: 0.0283 - acc: 0.9931 - val_loss: 0.0398 - val_acc: 0.9873\n",
            "Epoch 48/50\n",
            "60000/60000 [==============================] - 3s 47us/step - loss: 0.0277 - acc: 0.9931 - val_loss: 0.0393 - val_acc: 0.9871\n",
            "Epoch 49/50\n",
            "60000/60000 [==============================] - 3s 47us/step - loss: 0.0270 - acc: 0.9935 - val_loss: 0.0399 - val_acc: 0.9871\n",
            "Epoch 50/50\n",
            "60000/60000 [==============================] - 3s 45us/step - loss: 0.0264 - acc: 0.9934 - val_loss: 0.0392 - val_acc: 0.9880\n"
          ],
          "name": "stdout"
        }
      ]
    },
    {
      "cell_type": "code",
      "metadata": {
        "id": "hy4NYSjPOZ6V",
        "colab_type": "code",
        "outputId": "10183298-d2b1-4c64-87b0-3bdc36e6a63a",
        "colab": {
          "base_uri": "https://localhost:8080/",
          "height": 313
        }
      },
      "source": [
        "import matplotlib.pyplot as plt\n",
        "\n",
        "f, ax = plt.subplots()\n",
        "ax.plot([None] + hist.history['acc'], 'o-')\n",
        "ax.plot([None] + hist.history['val_acc'], 'x-')\n",
        "# Plot legend and use the best location automatically: loc = 0.\n",
        "ax.legend(['Train acc', 'Validation acc'], loc = 0)\n",
        "ax.set_title('Training/Validation acc per Epoch')\n",
        "ax.set_xlabel('Epoch')\n",
        "ax.set_ylabel('acc') "
      ],
      "execution_count": 0,
      "outputs": [
        {
          "output_type": "execute_result",
          "data": {
            "text/plain": [
              "Text(0, 0.5, 'acc')"
            ]
          },
          "metadata": {
            "tags": []
          },
          "execution_count": 26
        },
        {
          "output_type": "display_data",
          "data": {
            "image/png": "[encoded data removed]",
            "text/plain": [
              "<Figure size 432x288 with 1 Axes>"
            ]
          },
          "metadata": {
            "tags": []
          }
        }
      ]
    },
    {
      "cell_type": "code",
      "metadata": {
        "id": "dmYqozpSOZ1q",
        "colab_type": "code",
        "outputId": "85a85db5-5c76-484c-e15d-28f4326815ac",
        "colab": {
          "base_uri": "https://localhost:8080/",
          "height": 313
        }
      },
      "source": [
        "import matplotlib.pyplot as plt\n",
        "\n",
        "f, ax = plt.subplots()\n",
        "ax.plot([None] + hist.history['loss'], 'o-')\n",
        "ax.plot([None] + hist.history['val_loss'], 'x-')\n",
        "# Plot legend and use the best location automatically: loc = 0.\n",
        "ax.legend(['Train Loss', 'Validation Loss'], loc = 0)\n",
        "ax.set_title('Training/Validation Loss per Epoch')\n",
        "ax.set_xlabel('Epoch')\n",
        "ax.set_ylabel('Loss') "
      ],
      "execution_count": 0,
      "outputs": [
        {
          "output_type": "execute_result",
          "data": {
            "text/plain": [
              "Text(0, 0.5, 'Loss')"
            ]
          },
          "metadata": {
            "tags": []
          },
          "execution_count": 28
        },
        {
          "output_type": "display_data",
          "data": {
            "image/png": "[encoded data removed]",
            "text/plain": [
              "<Figure size 432x288 with 1 Axes>"
            ]
          },
          "metadata": {
            "tags": []
          }
        }
      ]
    },
    {
      "cell_type": "code",
      "metadata": {
        "id": "aD09vJ1QOZvy",
        "colab_type": "code",
        "colab": {}
      },
      "source": [
        ""
      ],
      "execution_count": 0,
      "outputs": []
    },
    {
      "cell_type": "code",
      "metadata": {
        "id": "UNeOpwfiOZn1",
        "colab_type": "code",
        "colab": {}
      },
      "source": [
        ""
      ],
      "execution_count": 0,
      "outputs": []
    }
  ]
}